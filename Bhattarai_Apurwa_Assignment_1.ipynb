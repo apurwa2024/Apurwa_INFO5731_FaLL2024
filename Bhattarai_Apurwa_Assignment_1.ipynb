{
  "cells": [
    {
      "cell_type": "markdown",
      "metadata": {
        "id": "view-in-github",
        "colab_type": "text"
      },
      "source": [
        "<a href=\"https://colab.research.google.com/github/apurwa2024/Apurwa_INFO5731_FaLL2024/blob/main/Bhattarai_Apurwa_Assignment_1.ipynb\" target=\"_parent\"><img src=\"https://colab.research.google.com/assets/colab-badge.svg\" alt=\"Open In Colab\"/></a>"
      ]
    },
    {
      "cell_type": "markdown",
      "metadata": {
        "id": "Ryk8D1Q4Wsrp"
      },
      "source": [
        "# **INFO5731 Assignment One**"
      ]
    },
    {
      "cell_type": "markdown",
      "metadata": {
        "id": "qcP6re2g5A5r"
      },
      "source": [
        "This assignment includes range of programming tasks and data analysis exercises, aiming to enhance your Python skills and proficiency in string manipulation, numerical computations, and data science. Follow the instructions carefully and design well-structured Python programs to address each question.\n",
        "\n",
        "Late Submission will have a penalty of 10% reduction for each day after the deadline."
      ]
    },
    {
      "cell_type": "markdown",
      "metadata": {
        "id": "JkzR8cFAyGik"
      },
      "source": [
        "# Question 1 (10 points).\n",
        "\n",
        "The formula that describes the volume V of a hemisphere with radius r is the following:\n",
        "\n",
        "$ V=\\frac{2}{3}\\ast\\ \\pi\\ast\\ r^3 $\n",
        "\n",
        "Write a program to calculate the value of V when r is in the range of even numbers from 1-20. Output the result in the following format:\n",
        "\n",
        "\tr\tV\n",
        "\t2\t…\n",
        "\t4\t…\n",
        "\t6\t…\n",
        "\t.\n",
        "\t.\n",
        "\t.\n",
        "\t20\t…\n"
      ]
    },
    {
      "cell_type": "code",
      "execution_count": 2,
      "metadata": {
        "id": "jDyTKYs-yGit",
        "colab": {
          "base_uri": "https://localhost:8080/"
        },
        "outputId": "c5a63786-eebc-429a-96de-5f7c96a6ad44"
      },
      "outputs": [
        {
          "output_type": "stream",
          "name": "stdout",
          "text": [
            "Radius     Volume              \n",
            "******************************\n",
            "2          16.76               \n",
            "4          134.04              \n",
            "6          452.39              \n",
            "8          1072.33             \n",
            "10         2094.40             \n",
            "12         3619.11             \n",
            "14         5747.02             \n",
            "16         8578.64             \n",
            "18         12214.51            \n",
            "20         16755.16            \n"
          ]
        }
      ],
      "source": [
        "# Your code here\n",
        "\n",
        "import math\n",
        "\n",
        "def hemisphereVolume(radius):\n",
        "    return (2 / 3) * math.pi * (radius ** 3)\n",
        "\n",
        "def main():\n",
        "    print(f\"{'Radius':<10} {'Volume':<20}\")\n",
        "    print(30 * \"*\" )\n",
        "\n",
        "    for radius in range(2, 21, 2):\n",
        "        volume = hemisphereVolume(radius)\n",
        "        print(f\"{radius:<10} {volume:<20.2f}\")\n",
        "\n",
        "if __name__ == \"__main__\":\n",
        "    main()"
      ]
    },
    {
      "cell_type": "markdown",
      "metadata": {
        "id": "90_NR8c5XGWc"
      },
      "source": [
        "# Question 2 (20 points)\n",
        "\n",
        "(a) Write a Python program to generate a sequence of 12 random numbers falling within the range of 50 to 150.\n",
        "\n",
        "(b) Arrange the generated numbers in ascending order. Display the sorted list.\n",
        "\n",
        "(c) Extend the program to arrange the numbers in descending order as well. Present the sorted list accordingly.\n",
        "\n",
        "(d) Compute and output the average of the entire group of generated numbers.\n",
        "\n",
        "(e) Enhance the program to calculate and display the average of the first 6 numbers from both the ascending and descending sorted lists."
      ]
    },
    {
      "cell_type": "code",
      "execution_count": 9,
      "metadata": {
        "id": "5QX6bJjGWXY9",
        "colab": {
          "base_uri": "https://localhost:8080/"
        },
        "outputId": "e5675379-382d-4043-cc9d-a4dfb55ec31f"
      },
      "outputs": [
        {
          "output_type": "stream",
          "name": "stdout",
          "text": [
            "ascending order of the generated numbers: [51, 57, 67, 82, 82, 93, 94, 101, 122, 128, 129, 148]\n",
            "descending order of the generated numbers: [148, 129, 128, 122, 101, 94, 93, 82, 82, 67, 57, 51]\n",
            "Overall Average of the generated numbers: 96.16666666666667\n",
            "average ascending order of the first 6 numbers: 72.0\n",
            "Average descending order of the first 6 numbers: 120.33333333333333\n"
          ]
        }
      ],
      "source": [
        "# Write code for each of the sub parts with proper comments.\n",
        "\n",
        "import random\n",
        "\n",
        "def randomNumbers(count, lowestNumber, highestNumber):\n",
        "    return [random.randint(lowestNumber, highestNumber) for _ in range(count)]\n",
        "\n",
        "def average(numbers):\n",
        "    return sum(numbers) / len(numbers) if numbers else 0\n",
        "\n",
        "def main():\n",
        "    count = 12\n",
        "    lowestNumber = 50\n",
        "    highestNumber = 150\n",
        "    numbers = randomNumbers(count, lowestNumber, highestNumber)\n",
        "\n",
        "    sortedAscending = sorted(numbers)\n",
        "    print(\"ascending order of the generated numbers:\", sortedAscending)\n",
        "\n",
        "    sortedDescending = sorted(numbers, reverse=True)\n",
        "    print(\"descending order of the generated numbers:\", sortedDescending)\n",
        "\n",
        "    overallAverage = average(numbers)\n",
        "    print(\"Overall Average of the generated numbers:\", overallAverage)\n",
        "\n",
        "    ascendingFirstSix = sortedAscending[:6]\n",
        "    descendingFirstSix = sortedDescending[:6]\n",
        "\n",
        "    avg_ascendingFirstSix = average(ascendingFirstSix)\n",
        "    avg_descendingFirstSix = average(descendingFirstSix)\n",
        "\n",
        "    print(\"average ascending order of the first 6 numbers:\", avg_ascendingFirstSix)\n",
        "    print(\"Average descending order of the first 6 numbers:\", avg_descendingFirstSix)\n",
        "\n",
        "if __name__ == \"__main__\":\n",
        "    main()\n"
      ]
    },
    {
      "cell_type": "code",
      "execution_count": null,
      "metadata": {
        "id": "fPvuuk4hZ_1y"
      },
      "outputs": [],
      "source": []
    },
    {
      "cell_type": "markdown",
      "metadata": {
        "id": "1F_PZdH9Sh49"
      },
      "source": [
        "# Question 3 (20 points).\n",
        "\n",
        "Create a Python program that encompasses various string manipulation task:\n",
        "\n",
        "(a) Prompt the user to input two sentences.\n",
        "\n",
        "(b) Transform each sentence into a list, where each element corresponds to a word in the sentence. For example, if the sentences are \"Hello, how are you doing today?\" and \"This is an example sentence for the program!\"\n",
        "\n",
        "The program should output:\n",
        "['Hello', ',', 'how', 'are', 'you', 'doing', 'today', '?', 'This', 'is', 'an', 'example', 'sentence', 'for', 'the', 'program', '!']\n",
        "\n",
        "(c) Compare the two sentences. Print out a list of words that occur in both sentences.\n",
        "\n",
        "(d) Remove any punctuation from the sentence and print the sanitized sentences. It should remove at least the following characters, but it can remove more: period(“.”), comma (“,”), semicolon (“;”), and colon (“:”).\n",
        "\n",
        "(e) Count the number of vowels in each of the sentences. Print out each vowel and the occurrences  in the each of the two sentences separately, such as:\n",
        "\n",
        "Sentence1: a:2, e:2, i:0, etc.\n",
        "Sentence2: a:1, e:2, i:2, etc.\n",
        "\n",
        "Design a well-structured Python program to execute these tasks efficiently."
      ]
    },
    {
      "cell_type": "code",
      "execution_count": 11,
      "metadata": {
        "colab": {
          "base_uri": "https://localhost:8080/"
        },
        "id": "Y0oOSlsOS0cq",
        "outputId": "c8ddce5b-763d-4718-b175-b8be04c80da3"
      },
      "outputs": [
        {
          "output_type": "stream",
          "name": "stdout",
          "text": [
            "Please enter sentence 1: hi! how are you\n",
            "Please enter sentence 2: hi, i am fine are\n",
            "Words found in sentence 1: ['hi!', 'how', 'are', 'you']\n",
            "Words found in sentence 2: ['hi,', 'i', 'am', 'fine', 'are']\n",
            "Common words on both sentences: ['are']\n",
            "Sanitized Sentence 1: hi how are you\n",
            "Sanitized Sentence 2: hi i am fine are\n",
            "number of vowels in Sentence 1: {'i:1, o:2, a:1, e:1, u:1'}\n",
            "number of vowels in sentence 2: {'i:3, a:2, e:2'}\n"
          ]
        }
      ],
      "source": [
        "# Your code here\n",
        "import string\n",
        "from collections import Counter\n",
        "\n",
        "def userInput():\n",
        "    sentence1 = input(\"Please enter sentence 1: \")\n",
        "    sentence2 = input(\"Please enter sentence 2: \")\n",
        "    return sentence1, sentence2\n",
        "\n",
        "def sentence_to_word_list(sentence):\n",
        "    return [word for word in sentence.split()]\n",
        "\n",
        "def remove_punctuation(sentence):\n",
        "    translator = str.maketrans('', '', string.punctuation)\n",
        "    return sentence.translate(translator)\n",
        "\n",
        "def count_vowels(sentence):\n",
        "    vowels = 'aeiou'\n",
        "    return Counter(c for c in sentence.lower() if c in vowels)\n",
        "\n",
        "def main():\n",
        "    sentence1, sentence2 = userInput()\n",
        "\n",
        "    words1 = sentence_to_word_list(sentence1)\n",
        "    words2 = sentence_to_word_list(sentence2)\n",
        "    print(f\"Words found in sentence 1: {words1}\")\n",
        "    print(f\"Words found in sentence 2: {words2}\")\n",
        "\n",
        "    common_words = set(words1) & set(words2)\n",
        "    print(f\"Common words on both sentences: {list(common_words)}\")\n",
        "\n",
        "    sanitizedSentence1 = remove_punctuation(sentence1)\n",
        "    sanitizedSentence2 = remove_punctuation(sentence2)\n",
        "    print(f\"Sanitized Sentence 1: {sanitizedSentence1}\")\n",
        "    print(f\"Sanitized Sentence 2: {sanitizedSentence2}\")\n",
        "\n",
        "    vowelsOfCount1 = count_vowels(sentence1)\n",
        "    vowelsOfCount2 = count_vowels(sentence2)\n",
        "    print(\"number of vowels in Sentence 1:\", {', '.join(f'{v}:{c}' for v, c in vowelsOfCount1.items())})\n",
        "    print(\"number of vowels in sentence 2:\", {', '.join(f'{v}:{c}' for v, c in vowelsOfCount2.items())})\n",
        "\n",
        "if __name__ == \"__main__\":\n",
        "    main()\n",
        "\n"
      ]
    },
    {
      "cell_type": "markdown",
      "metadata": {
        "id": "OP4-5qxAtInv"
      },
      "source": [
        "# Question 4 (20 Points)"
      ]
    },
    {
      "cell_type": "markdown",
      "metadata": {
        "id": "uzN4_hDptK9U"
      },
      "source": [
        "Design and implement a simple command-line calculator program. The program should handle both integers and floating-point numbers.\n",
        "\n",
        "(a) Write program that takes a mathematical expression as input and evaluates it. The program should support addition, subtraction, multiplication, and division.\n",
        "\n",
        "(b) Extend the calculator to handle parentheses in mathematical expressions. Implement the necessary logic to evaluate expressions with nested parentheses.\n",
        "\n",
        "(c) Enhance your calculator to include additional mathematical operations such as exponentiation, square root, and modulus.\n",
        "\n",
        "(d) Implement error handling in the calculator program. Handle cases such as division by zero and invalid input expressions. Provide meaningful error messages.\n",
        "\n",
        "(e) Implement a command to exit the calculator."
      ]
    },
    {
      "cell_type": "code",
      "execution_count": 13,
      "metadata": {
        "colab": {
          "base_uri": "https://localhost:8080/"
        },
        "id": "8nQnVxjJuYtu",
        "outputId": "b746ecd9-74f1-42ac-bc34-13020318d745"
      },
      "outputs": [
        {
          "output_type": "stream",
          "name": "stdout",
          "text": [
            "Please use the following operators\n",
            "Addition (+), Subtraction (-), Multiplication (*), Division (/)\n",
            "Square Root (sqrt(x)), Modulus (%),Exponentiation (**)\n",
            "grouping requires paranthesis, for example (9 + 2) * 7\n",
            "Please type exit to exit out of the calculator\n",
            "Please enter the expression: 7+7\n",
            "Result: 14\n",
            "Please enter the expression: 7-7\n",
            "Result: 0\n",
            "Please enter the expression: 7%5\n",
            "Result: 2\n",
            "Please enter the expression: 7/4\n",
            "Result: 1.75\n",
            "Please enter the expression: sqrt(144)\n",
            "Result: 12.0\n",
            "Please enter the expression: exit\n",
            "Exiting your calculator. Thank you\n"
          ]
        }
      ],
      "source": [
        "# Your code here\n",
        "import math\n",
        "import re\n",
        "\n",
        "def expressionEvaluation(expression):\n",
        "    try:\n",
        "        expression = re.sub(r'sqrt\\(([^)]+)\\)', r'math.sqrt(\\1)', expression)\n",
        "        result = eval(expression, {\"__builtins__\": None}, {\"math\": math})\n",
        "        return result\n",
        "    except ZeroDivisionError:\n",
        "        return \"Error has occured: number was Division by zero\"\n",
        "    except (SyntaxError, NameError) as e:\n",
        "        return f\"Error: Invalid input ({e})\"\n",
        "\n",
        "def calculator():\n",
        "    print(\"Please use the following operators\")\n",
        "    print(\"Addition (+), Subtraction (-), Multiplication (*), Division (/)\")\n",
        "    print(\"Square Root = (sqrt(number)), Mod(%),Expo(**)\")\n",
        "    print(\"grouping requires paranthesis, for example (9 + 2) * 7\")\n",
        "    print(\"Please type exit to exit out of the calculator\")\n",
        "\n",
        "    while True:\n",
        "        try:\n",
        "            expression = input(\"Please enter the expression: \").strip()\n",
        "\n",
        "            if expression.lower() == 'exit':\n",
        "                print(\"Exiting your calculator. Thank you\")\n",
        "                break\n",
        "\n",
        "            if re.search(r'[^\\d+\\-*/().\\s%sqrt]', expression):\n",
        "                print(\"Input is Invalid\")\n",
        "                continue\n",
        "\n",
        "            result = expressionEvaluation(expression)\n",
        "            print(f\"Result: {result}\")\n",
        "\n",
        "        except Exception as e:\n",
        "            print(f\"ERROR: {e}\")\n",
        "\n",
        "if __name__ == \"__main__\":\n",
        "    calculator()\n"
      ]
    },
    {
      "cell_type": "code",
      "execution_count": null,
      "metadata": {
        "id": "OWN-21Q_L2R0"
      },
      "outputs": [],
      "source": []
    },
    {
      "cell_type": "markdown",
      "metadata": {
        "id": "z3tBE7E-Xn5X"
      },
      "source": [
        "# Question 5 (30 points).\n",
        "\n",
        "In the field of Data Science, data is often formatted as a comma-delimited (CSV) file, where each line in a file corresponds to a field's value. Refer to Chapter 9 (p. 106) for more information on comma-delimited files.\n",
        "\n",
        "To answer this question, you will need to download the file [Assignment1_denton_housing.csv](https://raw.githubusercontent.com/unt-iialab/info5731-spring2022/main/assignments/Assignment1_denton_housing.csv) included with this assignment. The file contains statistics about housing in the city of Denton from 2008 to 2014. Write a program to implement the following questions.\n",
        "\n",
        "(a) (5 pts) Calculate the difference in the number of Occupied Housing Units from year to year and print it. The difference must be calculated for the consecutive years such as 2008-2009, 2009-2010 etc. Finally, print the values in the ascending order.\n",
        "\n",
        "(b) (5 pts) For all the years, calculate the percentage of housing units which are vacant an occupied. Print the results in the following format:\n",
        "\n",
        "Year Vacant Housing Units Occupied Housing Units\n",
        "\n",
        "    2008  30%   70%                          \n",
        "\t2009 ----- -----\n",
        "\t2010 ----- -----\n",
        "    2011 ----- -----\n",
        "\t2012 ----- -----\n",
        "    2013 ----- -----\n",
        "\t2014 ----- -----\n",
        "  \n",
        "  \n",
        "\n",
        "(c) (10 pts) Calculate and print the valued and years in which the highest number of housing units were vacant and occupied. Print the results in the following format:  \n",
        "\n",
        "                              Year\tValue\n",
        "\tVacant Housing Units\t  -----   -----\n",
        "\tOccupied Housing Units\t-----   -----\n",
        "\n",
        "(d) (10 pts) Calculate the harmonic mean of the total housing units and print it out. You can find the information about harmonic mean here: https://ncalculators.com/statistics/harmonic-mean-calculator.htm"
      ]
    },
    {
      "cell_type": "code",
      "execution_count": 26,
      "metadata": {
        "colab": {
          "base_uri": "https://localhost:8080/"
        },
        "id": "lqGYuHBhcsRH",
        "outputId": "cdeb2e3a-2d2b-4a7a-cf9f-be5cb9bfcfee"
      },
      "outputs": [
        {
          "output_type": "stream",
          "name": "stdout",
          "text": [
            "DataFrame\n",
            "title_field  year  Median Gross Rent  Occupied Housing Units  Owner Occupied  \\\n",
            "0            2008                768                   36711           17340   \n",
            "1            2009                769                   35916           18057   \n",
            "2            2010                780                   41007           18867   \n",
            "3            2011                821                   40704           18478   \n",
            "4            2012                842                   42108           20068   \n",
            "\n",
            "title_field  Renter Occupied  Total Housing Units  Vacant Housing Units  \n",
            "0                      19371                41194                  4483  \n",
            "1                      17859                39499                  3583  \n",
            "2                      22140                44642                  3635  \n",
            "3                      22226                44917                  4213  \n",
            "4                      22040                45121                  3013  \n",
            "\n",
            "(a) Occupied housing unit differences in ascending order:\n",
            "2008 - 2009: -795.00\n",
            "2010 - 2011: -303.00\n",
            "2011 - 2012: 1404.00\n",
            "2012 - 2013: 1565.00\n",
            "2013 - 2014: 2622.00\n",
            "2009 - 2010: 5091.00\n",
            "\n",
            "(b) Percentage of Housing Units:\n",
            "\n",
            "Year    Vacant    Occupied\n",
            "2008  10.88%   89.12%\n",
            "2009  9.07%   90.93%\n",
            "2010  8.14%   91.86%\n",
            "2011  9.38%   90.62%\n",
            "2012  6.68%   93.32%\n",
            "2013  8.80%   91.20%\n",
            "2014  5.73%   94.27%\n",
            "\n",
            "(c) housing units highest number in year and value\n",
            "\n",
            "                         Year    Value \n",
            "\n",
            "Vacant Housing Units      2008   4483\n",
            "\n",
            "Occupied Housing Units    2014   46295\n",
            "\n",
            "(d) The Harmonic Mean is 44398.29\n"
          ]
        }
      ],
      "source": [
        " # Your code here\n",
        "\n",
        "import pandas as pd\n",
        "from scipy.stats import hmean\n",
        "\n",
        "def housingData(file_path):\n",
        "    df = pd.read_csv(file_path)\n",
        "\n",
        "    pivot_df = df.pivot(index='year', columns='title_field', values='value').reset_index()\n",
        "\n",
        "    print(\"DataFrame\")\n",
        "    print(pivot_df.head())\n",
        "\n",
        "    # (a) year to year difference in occupied housing units\n",
        "    pivot_df['Occupied Housing Units Difference'] = pivot_df['Occupied Housing Units'].diff()\n",
        "    differences = pivot_df[['year', 'Occupied Housing Units Difference']].dropna()\n",
        "    differences_sorted = differences.sort_values(by='Occupied Housing Units Difference')\n",
        "\n",
        "    print(\"\\n(a) Occupied housing unit differences in ascending order:\")\n",
        "    for index, row in differences_sorted.iterrows():\n",
        "        year = int(row['year'])\n",
        "        diff = row['Occupied Housing Units Difference']\n",
        "        print(f\"{year-1} - {year}: {diff:.2f}\")\n",
        "\n",
        "    # (b) Percentage of housing units that are vacant and occupied\n",
        "    pivot_df['Vacant Percentage'] = (pivot_df['Vacant Housing Units'] / pivot_df['Total Housing Units']) * 100\n",
        "    pivot_df['Occupied Percentage'] = (pivot_df['Occupied Housing Units'] / pivot_df['Total Housing Units']) * 100\n",
        "\n",
        "    print(\"\\n(b) Percentage of Housing Units:\")\n",
        "    print(\"\\nYear    Vacant    Occupied\")\n",
        "    for index, row in pivot_df.iterrows():\n",
        "        year = int(row['year'])\n",
        "        vacant_percentage = row['Vacant Percentage']\n",
        "        occupied_percentage = row['Occupied Percentage']\n",
        "        print(f\"{year}  {vacant_percentage:.2f}%   {occupied_percentage:.2f}%\")\n",
        "\n",
        "    # (c)Highest number of housing units that were vacant and occupied\n",
        "    max_vacant = pivot_df.loc[pivot_df['Vacant Housing Units'].idxmax()]\n",
        "    max_occupied = pivot_df.loc[pivot_df['Occupied Housing Units'].idxmax()]\n",
        "\n",
        "    print(\"\\n(c) housing units highest number in year and value\")\n",
        "    print(\"\\n                         Year    Value \")\n",
        "    print(f\"\\nVacant Housing Units      {int(max_vacant['year'])}   {int(max_vacant['Vacant Housing Units'])}\")\n",
        "    print(f\"\\nOccupied Housing Units    {int(max_occupied['year'])}   {int(max_occupied['Occupied Housing Units'])}\")\n",
        "\n",
        "    # (d)harmonic mean\n",
        "    total_units = pivot_df['Total Housing Units'].dropna()\n",
        "    harmonic_mean_total_units = hmean(total_units)\n",
        "\n",
        "    print(f\"\\n(d) The Harmonic Mean is {harmonic_mean_total_units:.2f}\")\n",
        "\n",
        "if __name__ == \"__main__\":\n",
        "    file_path = 'https://raw.githubusercontent.com/unt-iialab/info5731-spring2022/main/assignments/Assignment1_denton_housing.csv'\n",
        "    housingData(file_path)\n"
      ]
    },
    {
      "cell_type": "code",
      "source": [],
      "metadata": {
        "id": "QASTevC1Vs6r"
      },
      "execution_count": null,
      "outputs": []
    },
    {
      "cell_type": "code",
      "execution_count": null,
      "metadata": {
        "id": "LmwNuRj3ZxdS"
      },
      "outputs": [],
      "source": []
    },
    {
      "cell_type": "code",
      "execution_count": null,
      "metadata": {
        "id": "eTulQgiBYhvC"
      },
      "outputs": [],
      "source": []
    },
    {
      "cell_type": "markdown",
      "metadata": {
        "id": "q8BFCvWp32cf"
      },
      "source": [
        "# Mandatory Question\n",
        "\n",
        "Provide your thoughts on the assignment. What did you find challenging, and what aspects did you enjoy? Your opinion on the provided time to complete the assignment. Share any suggestions for improvement. Your feedback will be valuable for enhancing the learning experience."
      ]
    },
    {
      "cell_type": "code",
      "execution_count": null,
      "metadata": {
        "id": "_e557s2w4BpK"
      },
      "outputs": [],
      "source": [
        "# Write your response below\n",
        "Overall this project was challenging in my point of view. Every questions had a different sub categories that made this assignment a little time consuming but we cannot deny the fact that there were a lot of learning opportunities."
      ]
    }
  ],
  "metadata": {
    "colab": {
      "provenance": [],
      "include_colab_link": true
    },
    "kernelspec": {
      "display_name": "Python 3 (ipykernel)",
      "language": "python",
      "name": "python3"
    },
    "language_info": {
      "codemirror_mode": {
        "name": "ipython",
        "version": 3
      },
      "file_extension": ".py",
      "mimetype": "text/x-python",
      "name": "python",
      "nbconvert_exporter": "python",
      "pygments_lexer": "ipython3",
      "version": "3.9.12"
    }
  },
  "nbformat": 4,
  "nbformat_minor": 0
}