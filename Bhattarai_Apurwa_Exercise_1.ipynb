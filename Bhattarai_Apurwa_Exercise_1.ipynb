{
  "cells": [
    {
      "cell_type": "markdown",
      "metadata": {
        "id": "DymRJbxDBCnf"
      },
      "source": [
        "# **INFO5731 Exercise 1**\n",
        "\n",
        "This exercise covers a variety of fundamental concepts in Python and is designed to help students improve their coding skills and problem-solving abilities.\n",
        "\n",
        "**Expectations**:\n",
        "*   Students are expected to complete the exercise during lecture period to meet the active participation criteria of the course.\n",
        "*   Use the provided .*ipynb* document to write your code & respond to the questions. Avoid generating a new file.\n",
        "*   Write complete answers and run all the cells before submission.\n",
        "*   Make sure the submission is \"clean\"; *i.e.*, no unnecessary code cells.\n",
        "*   Once finished, allow shared rights from top right corner (*see Canvas for details*).\n",
        "\n",
        "**Total points**: 40\n",
        "\n",
        "**Deadline**: This in-class exercise is due at the end of the day tomorrow, at 11:59 PM.\n",
        "\n",
        "**Late submissions cannot be considered, and no requests will be answered. Manage your time accordingly.**\n"
      ]
    },
    {
      "cell_type": "markdown",
      "source": [
        "## Question 1\n",
        "Write a Python program that  prompts the user to input the length and width of a rectangle, and then calculates and displays the area of the rectangle."
      ],
      "metadata": {
        "id": "FBKvD6O_TY6e"
      }
    },
    {
      "cell_type": "code",
      "source": [
        "# write your answer here\n",
        "def rectangle_area(length, width):\n",
        "\n",
        "    return length * width\n",
        "if __name__ == \"__main__\":\n",
        "    try:\n",
        "        length = float(input(\"please enter the length: \"))\n",
        "        width = float(input(\"please enter the width: \"))\n",
        "        if length <= 0 or width <= 0:\n",
        "            print(\"please provide positive value\")\n",
        "        else:\n",
        "            area = rectangle_area(length, width)\n",
        "            print(\"Rectangle's area:\", area)\n",
        "    except ValueError:\n",
        "        print(\"please enter a valid number\")\n",
        "\n"
      ],
      "metadata": {
        "id": "cikVKDXdTbzE",
        "colab": {
          "base_uri": "https://localhost:8080/"
        },
        "outputId": "7c8216c8-5640-48b4-b1ac-d5ae23500642"
      },
      "execution_count": null,
      "outputs": [
        {
          "output_type": "stream",
          "name": "stdout",
          "text": [
            "please enter the length: 2\n",
            "please enter the width: 3\n",
            "Rectangle's area: 6.0\n"
          ]
        }
      ]
    },
    {
      "cell_type": "markdown",
      "source": [
        "## Question 2\n",
        "Create a Python program that interactively takes two numerical inputs from the user and swaps their values without utilizing an extra variable."
      ],
      "metadata": {
        "id": "E9RqrlwdTfvl"
      }
    },
    {
      "cell_type": "code",
      "source": [
        "# write your answer here\n",
        "def swap_values(inp1, inp2):\n",
        "    return inp2, inp1\n",
        "\n",
        "inp1 = int(input())\n",
        "inp2 = int(input())\n",
        "swap_values(inp1, inp2)\n",
        "\n",
        "print (swap_values(inp1, inp2))\n"
      ],
      "metadata": {
        "id": "4XvRknixTh1g",
        "colab": {
          "base_uri": "https://localhost:8080/"
        },
        "outputId": "5872c3d0-d1eb-4509-ecc1-d68a75807732"
      },
      "execution_count": null,
      "outputs": [
        {
          "output_type": "stream",
          "name": "stdout",
          "text": [
            "7\n",
            "6\n",
            "(6, 7)\n"
          ]
        }
      ]
    },
    {
      "cell_type": "markdown",
      "metadata": {
        "id": "03jb4GZsBkBS"
      },
      "source": [
        "## Question 3\n",
        "Write a Python script to determine and print the length of a user-input string."
      ]
    },
    {
      "cell_type": "code",
      "execution_count": null,
      "metadata": {
        "id": "YaGLbSHHB8Ej",
        "colab": {
          "base_uri": "https://localhost:8080/"
        },
        "outputId": "d86b824d-a721-4e9d-f505-e0564019c3cd"
      },
      "outputs": [
        {
          "output_type": "stream",
          "name": "stdout",
          "text": [
            "Please enter a word: apu\n",
            "apu length is 3\n"
          ]
        }
      ],
      "source": [
        "# write your answer here\n",
        "user_input = input(\"Please enter a word: \")\n",
        "print(user_input,'length is' ,len(user_input))\n",
        "\n"
      ]
    },
    {
      "cell_type": "markdown",
      "metadata": {
        "id": "jJDe71iLB616"
      },
      "source": [
        "## Question 4\n",
        "Construct a Python program that counts and displays the occurrences of each character in a given string.\n",
        "\n",
        "Sample String: 'openai.ai',\n",
        "\n",
        "Expected Result: {'a': 2, 'i': 2, '.': 1, 'o': 1, 'p': 1, 'e': 1, 'n': 1}"
      ]
    },
    {
      "cell_type": "code",
      "execution_count": 48,
      "metadata": {
        "id": "MtKskTzbCLaU",
        "colab": {
          "base_uri": "https://localhost:8080/"
        },
        "outputId": "b928353f-5f06-4a44-efd3-37ae4624d578"
      },
      "outputs": [
        {
          "output_type": "stream",
          "name": "stdout",
          "text": [
            "Result {'m': 2, 'h': 1, 'y': 1, 't': 1, 'a': 1, 'i': 1, 'r': 2, 'n': 2, 'o': 2, 'g': 2, 'P': 2}\n"
          ]
        }
      ],
      "source": [
        "# write your answer here\n",
        "inp_str = \"PythonProgramming\"\n",
        "out = {x : inp_str.count(x) for x in set(inp_str )}\n",
        "print (\"Result \"+ str(out))\n"
      ]
    },
    {
      "cell_type": "markdown",
      "metadata": {
        "id": "55W9AMdXCSpV"
      },
      "source": [
        "## Question 5\n",
        "Design a Python code to calculate the sum of all elements in a user-provided list."
      ]
    },
    {
      "cell_type": "code",
      "execution_count": null,
      "metadata": {
        "id": "I57NXsauCec2",
        "colab": {
          "base_uri": "https://localhost:8080/"
        },
        "outputId": "a537c732-f777-4857-d285-3d8194882f0a"
      },
      "outputs": [
        {
          "output_type": "stream",
          "name": "stdout",
          "text": [
            "15\n"
          ]
        }
      ],
      "source": [
        "# write your answer here\n",
        "inputs = {1, 2, 3, 4, 5}\n",
        "sumofinputs = sum(inputs)\n",
        "print(sumofinputs)"
      ]
    },
    {
      "cell_type": "markdown",
      "metadata": {
        "id": "4ulBZ6yhCi9F"
      },
      "source": [
        "## Question 6\n",
        "Write a Python program that modifies a given string by replacing all occurrences of its first character with '$', excluding the first character itself.\n",
        "\n",
        "\n",
        "Sample String : 'restart‘\n",
        "Expected Result : 'resta\\$t'"
      ]
    },
    {
      "cell_type": "code",
      "execution_count": null,
      "metadata": {
        "id": "Fj0XhwbBCw2o",
        "colab": {
          "base_uri": "https://localhost:8080/"
        },
        "outputId": "1383f7a7-fc95-4e40-d7f7-edbf98ddb4b5"
      },
      "outputs": [
        {
          "output_type": "stream",
          "name": "stdout",
          "text": [
            "resta$t\n"
          ]
        }
      ],
      "source": [
        "# write your answer here\n",
        "e = \"restart\"\n",
        "f = e[0]\n",
        "for char in e[1:]:\n",
        "    if char == e[0]:\n",
        "        f+=\"$\"\n",
        "    else:\n",
        "        f+=char\n",
        "\n",
        "print(f)\n"
      ]
    },
    {
      "cell_type": "markdown",
      "source": [
        "## Question 7\n",
        "Write a Python program using a while loop to compute the factorial of a user-supplied number."
      ],
      "metadata": {
        "id": "qVXA3q7ET5JI"
      }
    },
    {
      "cell_type": "code",
      "source": [
        "# write your answer here\n",
        "factorial=1\n",
        "n=1\n",
        "while True:\n",
        "    n = 1\n",
        "    factorial = 1\n",
        "    num=int(input(\"please enter a digit \"))\n",
        "    if num<=0:\n",
        "        print(\"please enter number greater than 0\")\n",
        "        break\n",
        "    while n<num:\n",
        "        n+=1\n",
        "        factorial*=n\n",
        "    print(factorial)"
      ],
      "metadata": {
        "id": "Lbt7R6UkT7BA",
        "colab": {
          "base_uri": "https://localhost:8080/"
        },
        "outputId": "c4422694-f793-4c5b-fc45-234b20b1281f"
      },
      "execution_count": null,
      "outputs": [
        {
          "output_type": "stream",
          "name": "stdout",
          "text": [
            "please enter a digit 0\n",
            "please enter number greater than 0\n"
          ]
        }
      ]
    },
    {
      "cell_type": "markdown",
      "source": [
        "## Question 8\n",
        "Create a program that accepts a list of numbers as input and outputs a new list containing only the even numbers."
      ],
      "metadata": {
        "id": "6YfbzXMNT--R"
      }
    },
    {
      "cell_type": "code",
      "source": [
        "# write your answer here\n",
        "listofnumbers = [2, 5, 64, 54, 66, 73]\n",
        "\n",
        "for num in listofnumbers:\n",
        "    if num % 2 == 0:\n",
        "        print(num, end=\" \")\n"
      ],
      "metadata": {
        "id": "54q7wMQPUAKu",
        "colab": {
          "base_uri": "https://localhost:8080/"
        },
        "outputId": "79f52f1e-e30f-4412-f02c-71a1d84d95d2"
      },
      "execution_count": null,
      "outputs": [
        {
          "output_type": "stream",
          "name": "stdout",
          "text": [
            "2 64 54 66 "
          ]
        }
      ]
    },
    {
      "cell_type": "markdown",
      "metadata": {
        "id": "_bIP7s1MCzue"
      },
      "source": [
        "## Question 9\n",
        "Design a Python function to check if a number is prime.\n"
      ]
    },
    {
      "cell_type": "code",
      "execution_count": null,
      "metadata": {
        "id": "w79QilHXD3Mg",
        "colab": {
          "base_uri": "https://localhost:8080/"
        },
        "outputId": "95df9823-a8c9-4df1-dff5-0ef37b37cdd8"
      },
      "outputs": [
        {
          "output_type": "stream",
          "name": "stdout",
          "text": [
            "the input 17 is prime number\n"
          ]
        }
      ],
      "source": [
        "# write your answer here\n",
        "primenum = 17\n",
        "if primenum > 1:\n",
        "    for i in range(2, (primenum//2)+1):\n",
        "        if (primenum % i) == 0:\n",
        "            print(\"the input\", primenum,  \"is not prime number\")\n",
        "            break\n",
        "    else:\n",
        "        print(\"the input\", primenum,  \"is prime number\")\n",
        "\n",
        "\n"
      ]
    },
    {
      "cell_type": "markdown",
      "metadata": {
        "id": "xCa2bK9aD4Q3"
      },
      "source": [
        "## Question 10\n",
        "Write a Python program to concatenate following dictionaries to create a new one.\n",
        "\n",
        "Sample Dictionary : dic1={1:10, 2:20}, dic2={3:30, 4:40}, dic3={5:50,6:60},\n",
        "\n",
        "Expected Result : {1: 10, 2: 20, 3: 30, 4: 40, 5: 50, 6: 60}\n"
      ]
    },
    {
      "cell_type": "code",
      "execution_count": 36,
      "metadata": {
        "id": "_z4aLqAbEET1",
        "colab": {
          "base_uri": "https://localhost:8080/"
        },
        "outputId": "3079af4a-6d6c-4a97-a702-58f13c1de9ec"
      },
      "outputs": [
        {
          "output_type": "stream",
          "name": "stdout",
          "text": [
            "{1: 10, 2: 20, 3: 30, 4: 40, 5: 50, 6: 60}\n"
          ]
        }
      ],
      "source": [
        "# write your answer here\n",
        "dictionary1 = {1: 10, 2: 20}\n",
        "dictionary2 = {3: 30, 4: 40}\n",
        "dictionary3 = {5: 50, 6: 60}\n",
        "\n",
        "dic4 = {}\n",
        "\n",
        "for d in (dictionary1, dictionary2, dictionary3):\n",
        "    dic4.update(d)\n",
        "\n",
        "print(dic4)"
      ]
    },
    {
      "cell_type": "markdown",
      "source": [
        "## Question 11\n",
        "Design a Python function that takes a tuple of integers as input and returns the largest and smallest elements."
      ],
      "metadata": {
        "id": "bkyZ2xSZUOst"
      }
    },
    {
      "cell_type": "code",
      "source": [
        "# write your answer here\n",
        "print(\"Please enter numbers using commas after each digits\")\n",
        "t1 = tuple([int(e) for e in input().split(',')])\n",
        "print(\"largest:\", max(t1))\n",
        "print(\"smallest:\", min(t1))"
      ],
      "metadata": {
        "id": "3FdLRBKOUQEd",
        "colab": {
          "base_uri": "https://localhost:8080/"
        },
        "outputId": "d0e62bec-9dba-44ab-b3e0-beec220d163d"
      },
      "execution_count": null,
      "outputs": [
        {
          "output_type": "stream",
          "name": "stdout",
          "text": [
            "Please enter numbers using commas after each digits\n",
            "7,8,9\n",
            "largest: 9\n",
            "smallest: 7\n"
          ]
        }
      ]
    },
    {
      "cell_type": "markdown",
      "source": [
        "## Question 12\n",
        "Write a Python program that counts the frequency of each character in a given string and stores it in a dictionary."
      ],
      "metadata": {
        "id": "O0TVi3gKUTpp"
      }
    },
    {
      "cell_type": "code",
      "source": [
        "# write your answer here\n",
        "from typing import Dict\n",
        "\n",
        "\n",
        "char_dict = {}\n",
        "\n",
        "\n",
        "def char_count(string: str) -> dict:\n",
        "    new_string = string.lower()\n",
        "    for c in new_string:\n",
        "        if c in char_dict:\n",
        "            char_dict[c] += 1\n",
        "        else:\n",
        "            char_dict[c] = 1\n",
        "    return char_dict\n",
        "\n",
        "\n",
        "if __name__ == \"__main__\":\n",
        "    UserString = input(\"Please enter a word: \")\n",
        "    CharCount = char_count(UserString)\n",
        "    print(\"character's count are as follows: \", CharCount)"
      ],
      "metadata": {
        "id": "lAtfSfZXUU-h",
        "colab": {
          "base_uri": "https://localhost:8080/"
        },
        "outputId": "aa299b7e-da6b-4063-9d78-07712829c51b"
      },
      "execution_count": null,
      "outputs": [
        {
          "output_type": "stream",
          "name": "stdout",
          "text": [
            "Please enter a word bhattarai\n",
            "character's count are as follows:  {'b': 1, 'h': 1, 'a': 3, 't': 2, 'r': 1, 'i': 1}\n"
          ]
        }
      ]
    },
    {
      "cell_type": "markdown",
      "metadata": {
        "id": "0v48Vqa7FrQh"
      },
      "source": [
        "## Question 13\n",
        "Implement a Python script to identify duplicate elements in a provided array of integers. Return -1 if there are no duplicates."
      ]
    },
    {
      "cell_type": "code",
      "execution_count": null,
      "metadata": {
        "id": "7WEmgq-DF2P1",
        "colab": {
          "base_uri": "https://localhost:8080/"
        },
        "outputId": "e4ca4e63-dc92-4775-90d5-60ab6a063e9e"
      },
      "outputs": [
        {
          "output_type": "stream",
          "name": "stdout",
          "text": [
            "5\n",
            "-1\n"
          ]
        }
      ],
      "source": [
        "# write your answer here\n",
        "def duplicate(number):\n",
        "    number_set = set()\n",
        "    no_duplicate = -1\n",
        "\n",
        "    for i in range(len(number)):\n",
        "\n",
        "        if number[i] in number_set:\n",
        "            return number[i]\n",
        "        else:\n",
        "            number_set.add(number[i])\n",
        "\n",
        "    return no_duplicate\n",
        "\n",
        "print(duplicate([2, 4, 5, 5, 7, 8]))\n",
        "print(duplicate([5, 6, 7, 8]))\n"
      ]
    },
    {
      "cell_type": "markdown",
      "metadata": {
        "id": "vD5PYLMuGga_"
      },
      "source": [
        "## Question 14\n",
        "Write a Python script to find the common elements between two lists."
      ]
    },
    {
      "cell_type": "code",
      "execution_count": 11,
      "metadata": {
        "id": "t0D5kdJUGjjw",
        "colab": {
          "base_uri": "https://localhost:8080/"
        },
        "outputId": "fcd0bd6b-5d3a-49b5-bfeb-a50bb3d4e568"
      },
      "outputs": [
        {
          "output_type": "stream",
          "name": "stdout",
          "text": [
            "{2, 4}\n",
            "There are no common elements\n"
          ]
        }
      ],
      "source": [
        "# write your answer here\n",
        "def common_elements(a, b):\n",
        "    a_set = set(a)\n",
        "    b_set = set(b)\n",
        "\n",
        "    if (a_set & b_set):\n",
        "        print(a_set & b_set)\n",
        "    else:\n",
        "        print(\"There are no common elements\")\n",
        "\n",
        "\n",
        "a = [5, 7, 4, 3, 2]\n",
        "b = [4, 2, 6, 8, 9]\n",
        "common_elements(a, b)\n",
        "\n",
        "a = [1, 2, 3, 4, 5]\n",
        "b = [6, 7, 8, 9]\n",
        "common_elements(a, b)\n"
      ]
    },
    {
      "cell_type": "markdown",
      "metadata": {
        "id": "uHkd-y5VhVWC"
      },
      "source": [
        "## Question 15\n",
        "Write a Python program to randomly divide the students in this class into maximum of eight groups for term projects, each group should have at least 4 students but no more than 6 students (including 6).\n",
        "\n",
        "Here is the students list:\n",
        "\n",
        "student_list_spring_2024=[rb0846,\n",
        "ac1964,\n",
        "hc0612,\n",
        "md0912,\n",
        "ad1198,\n",
        "md0894,\n",
        "md0825,\n",
        "vg0598,\n",
        "vg0433,\n",
        "mh1068,\n",
        "yj0173,\n",
        "pk0553,\n",
        "tk0411,\n",
        "srk0204,\n",
        "sk2922,\n",
        "sk2936,\n",
        "mk1302,\n",
        "mk1317,\n",
        "tk0412,\n",
        "vk0656,\n",
        "sm2985,\n",
        "mm2372,\n",
        "un0045,\n",
        "an0892,\n",
        "sn0913,\n",
        "gp0252,\n",
        "ap1484,\n",
        "mr1765,\n",
        "sr1385,\n",
        "sr1335,\n",
        "hs0665,\n",
        "ms2060,\n",
        "gt0217,\n",
        "nt0385,\n",
        "tv0186,\n",
        "sv1394,\n",
        "sv1752,\n",
        "sv1555,\n",
        "sy0594\n",
        "]\n"
      ]
    },
    {
      "cell_type": "code",
      "execution_count": 58,
      "metadata": {
        "id": "3iGbmcOBhTwy",
        "colab": {
          "base_uri": "https://localhost:8080/"
        },
        "outputId": "ba9094a8-e3eb-41f9-b2bf-871e4bb60ffb"
      },
      "outputs": [
        {
          "output_type": "stream",
          "name": "stdout",
          "text": [
            "Group 1\n",
            "EUID srk0204\n",
            "EUID tk0411\n",
            "EUID rb0846\n",
            "EUID tk0412\n",
            "EUID mm2372\n",
            "Group 2\n",
            "EUID vg0598\n",
            "EUID ac1964\n",
            "EUID md0894\n",
            "EUID pk0553\n",
            "EUID ms2060\n",
            "Group 3\n",
            "EUID md0825\n",
            "EUID gt0217\n",
            "EUID sn0913\n",
            "EUID sy0594\n",
            "EUID mk1302\n",
            "Group 4\n",
            "EUID nt0385\n",
            "EUID vg0433\n",
            "EUID ad1198\n",
            "EUID vk0656\n",
            "EUID mh1068\n",
            "Group 5\n",
            "EUID sv1394\n",
            "EUID mk1317\n",
            "EUID mr1765\n",
            "EUID sr1385\n",
            "EUID sr1335\n",
            "Group 6\n",
            "EUID an0892\n",
            "EUID gp0252\n",
            "EUID hs0665\n",
            "EUID sm2985\n",
            "EUID tv0186\n",
            "Group 7\n",
            "EUID hc0612\n",
            "EUID un0045\n",
            "EUID yj0173\n",
            "EUID sv1752\n",
            "EUID sk2922\n",
            "Group 8\n",
            "EUID sv1555\n",
            "EUID md0912\n",
            "EUID ap1484\n",
            "EUID sk2936\n"
          ]
        }
      ],
      "source": [
        "import random\n",
        "\n",
        "students_list_spring_2024 = [\n",
        "   'rb0846', 'ac1964', 'hc0612', 'md0912', 'ad1198', 'md0894',\n",
        "    'md0825', 'vg0598', 'vg0433', 'mh1068', 'yj0173', 'pk0553',\n",
        "    'tk0411', 'srk0204', 'sk2922', 'sk2936', 'mk1302', 'mk1317',\n",
        "    'tk0412', 'vk0656', 'sm2985', 'mm2372', 'un0045', 'an0892',\n",
        "    'sn0913', 'gp0252', 'ap1484', 'mr1765', 'sr1385', 'sr1335',\n",
        "    'hs0665', 'ms2060', 'gt0217', 'nt0385', 'tv0186', 'sv1394',\n",
        "    'sv1752', 'sv1555', 'sy0594'\n",
        "    ]\n",
        "\n",
        "groups = [\n",
        "    'group1','group2','group3','group4','group5',\n",
        "    'group6','group7','group8','group9','group10'\n",
        "    ]\n",
        "\n",
        "random.shuffle(students_list_spring_2024)\n",
        "random.shuffle(groups)\n",
        "\n",
        "groups = [students_list_spring_2024[i:i + 5] for i in range(0, len(students_list_spring_2024), 5)]\n",
        "\n",
        "for i, g in enumerate(groups):\n",
        "    print(\"Group\", i + 1)\n",
        "\n",
        "    for s in g:\n",
        "        print(\"EUID\", s)\n",
        ""
      ]
    },
    {
      "cell_type": "markdown",
      "metadata": {
        "id": "fmZ9vX20Qs3d"
      },
      "source": [
        "## Question 16\n",
        "Create a program that takes a positive integer 'n' as input and prints the count of even numbers from 1 to 'n'. Optimize the loop using the continue statement."
      ]
    },
    {
      "cell_type": "code",
      "execution_count": 9,
      "metadata": {
        "id": "W8Jw6sWMQs3d",
        "colab": {
          "base_uri": "https://localhost:8080/"
        },
        "outputId": "0bfb8a6b-d463-4c1f-cd61-a1a881c5d915"
      },
      "outputs": [
        {
          "output_type": "stream",
          "name": "stdout",
          "text": [
            "Please enter your number 3\n",
            "2\n"
          ]
        }
      ],
      "source": [
        "# write your answer here\n",
        "def printEvenNumbers(n):\n",
        "    for i in range(2, n + 1, 2):\n",
        "        print(i)\n",
        "\n",
        "n = int(input(\"Please enter your number \"))\n",
        "printEvenNumbers(n)\n"
      ]
    },
    {
      "cell_type": "markdown",
      "metadata": {
        "id": "hvq4APMhQs3d"
      },
      "source": [
        "## Question 17\n",
        "Develop a Python function called 'count_vowels' that takes a string as input and returns the count of vowels (both lowercase and uppercase) present in the string, ignoring spaces and non-alphabetic characters."
      ]
    },
    {
      "cell_type": "code",
      "execution_count": 41,
      "metadata": {
        "id": "ZnoxhSglQs3d",
        "colab": {
          "base_uri": "https://localhost:8080/"
        },
        "outputId": "4f887642-0c0b-49a5-b694-71d982aa7fd3"
      },
      "outputs": [
        {
          "output_type": "stream",
          "name": "stdout",
          "text": [
            "the total numbers of vowels is: 7\n"
          ]
        }
      ],
      "source": [
        "# write your answer here\n",
        "string = \"ProgrammingLanguage\"\n",
        "vowels = \"AEIOUaeiou\"\n",
        "\n",
        "count = sum(string.count(vowel) for vowel in vowels)\n",
        "print('the total numbers of vowels is:', count)"
      ]
    },
    {
      "cell_type": "markdown",
      "source": [
        "## Question 18\n",
        "Create a custom exception named ValueTooSmallError in Python. Write a program that takes user input for an age, and if the entered age is less than 18, raise the ValueTooSmallError with an appropriate error message."
      ],
      "metadata": {
        "id": "55FWoSJPVVM6"
      }
    },
    {
      "cell_type": "code",
      "source": [
        "# write your answer here\n",
        "# define Python user-defined exceptions\n",
        "class Error(Exception):\n",
        "    pass\n",
        "\n",
        "class zerodivision(Error):\n",
        "    pass\n",
        "\n",
        "try:\n",
        "    i_num = int(input(\"Please enter your age \"))\n",
        "    if i_num == 0 | i_num<18:\n",
        "        raise zerodivision\n",
        "except zerodivision:\n",
        "    print(\"the age is less than 18 or 0. Please enter a valid age\")\n",
        "    print()\n"
      ],
      "metadata": {
        "id": "hwtr1wZmVX5A",
        "colab": {
          "base_uri": "https://localhost:8080/"
        },
        "outputId": "16eebd00-4cf3-480d-95de-aa577c2d117d"
      },
      "execution_count": 19,
      "outputs": [
        {
          "output_type": "stream",
          "name": "stdout",
          "text": [
            "Please enter your age 17\n",
            "the age is less than 18 or 0. Please enter a valid age\n",
            "\n"
          ]
        }
      ]
    },
    {
      "cell_type": "markdown",
      "source": [
        "## Question 19\n",
        "Develop a script that reverses a given string without using built-in reverse functions."
      ],
      "metadata": {
        "id": "Q9ecagcaVazW"
      }
    },
    {
      "cell_type": "code",
      "source": [
        "# write your answer here\n",
        "def reverse(string):\n",
        "    string = [string[i] for i in range(len(string)-1, -1, -1)]\n",
        "    return \"\".join(string)\n",
        "\n",
        "s = \"python\"\n",
        "\n",
        "print(\"The original string  is : \", s)\n",
        "\n",
        "print(\"The reversed string is: \", reverse(s))\n"
      ],
      "metadata": {
        "id": "gycgckoAVZjR",
        "colab": {
          "base_uri": "https://localhost:8080/"
        },
        "outputId": "d53e8f38-f6ac-4bce-9a78-5b66c9bacccb"
      },
      "execution_count": 21,
      "outputs": [
        {
          "output_type": "stream",
          "name": "stdout",
          "text": [
            "The original string  is :  python\n",
            "The reversed string is:  nohtyp\n"
          ]
        }
      ]
    },
    {
      "cell_type": "markdown",
      "source": [
        "## Question 20\n",
        "Implement a Python script to generate a random password of a specified length."
      ],
      "metadata": {
        "id": "ZFG6RibifMLu"
      }
    },
    {
      "cell_type": "code",
      "source": [
        "# write your answer here\n",
        "import string\n",
        "import random\n",
        "\n",
        "all_characters = string.ascii_letters + string.digits + string.punctuation\n",
        "\n",
        "length = int(input(\"Enter the length of the password: \"))\n",
        "\n",
        "password = ''.join(random.choices(all_characters, k=length))\n",
        "\n",
        "print(\"Your password is:\", password)"
      ],
      "metadata": {
        "id": "BFVrkEi9fNiD",
        "colab": {
          "base_uri": "https://localhost:8080/"
        },
        "outputId": "0924a545-bf2f-42d8-bcd3-c83187561523"
      },
      "execution_count": 34,
      "outputs": [
        {
          "output_type": "stream",
          "name": "stdout",
          "text": [
            "Enter the length of the password: 8\n",
            "Your password is: rdX@*p!6\n"
          ]
        }
      ]
    },
    {
      "cell_type": "markdown",
      "source": [
        "# Try these questions"
      ],
      "metadata": {
        "id": "6SmvS7nSfbj8"
      }
    },
    {
      "cell_type": "markdown",
      "source": [
        "(21) Define a base class called 'Vehicle' with attributes make and model. Create a derived class Car that inherits from Vehicle and has an additional attribute 'num_doors'. Demonstrate an example of creating an instance of the 'Car' class and accessing its attributes."
      ],
      "metadata": {
        "id": "cboAr5pEWUf5"
      }
    },
    {
      "cell_type": "code",
      "source": [
        "# write your answer here\n"
      ],
      "metadata": {
        "id": "phs9gciMWWAW"
      },
      "execution_count": null,
      "outputs": []
    },
    {
      "cell_type": "markdown",
      "source": [
        "(22) Create a class called 'Shape' with a method calculate_area(). Implement two derived classes 'Circle' and 'Rectangle' that inherit from Shape and override the calculate_area() method. Demonstrate polymorphism by creating instances of both derived classes and calling the calculate_area() method."
      ],
      "metadata": {
        "id": "J8HHefNtePwd"
      }
    },
    {
      "cell_type": "code",
      "source": [
        "# write your answer here"
      ],
      "metadata": {
        "id": "btnMmUZDeRhS"
      },
      "execution_count": null,
      "outputs": []
    },
    {
      "cell_type": "markdown",
      "source": [
        "(23) Write a Python program that prompts the user to enter two numbers and perform a division operation. Handle exceptions for both zero division and invalid input (non-numeric input). Display appropriate error messages for each type of exception and ensure the program does not crash due to these errors."
      ],
      "metadata": {
        "id": "z0oqEAlTeMUS"
      }
    },
    {
      "cell_type": "code",
      "source": [
        "# write your answer here"
      ],
      "metadata": {
        "id": "yjdc1zM1eMAs"
      },
      "execution_count": null,
      "outputs": []
    },
    {
      "cell_type": "markdown",
      "source": [
        "# Mandatory Question"
      ],
      "metadata": {
        "id": "sZOhks1dXWEe"
      }
    },
    {
      "cell_type": "markdown",
      "source": [
        "**Important:**\n",
        "Reflecting on the first three lectures and the exercises you've completed, please provide feedback on your learning experience. Share your thoughts on whether the material covered was clear, the exercises were helpful, and if you feel more confident in applying Python programming concepts. Additionally, mention any specific areas where you would like more clarification or topics you would like to explore further in future lectures. Your feedback is valuable in shaping the course for an effective learning journey."
      ],
      "metadata": {
        "id": "eqmHVEwaWhbV"
      }
    },
    {
      "cell_type": "code",
      "source": [
        "'''\n",
        "Write your response here.\n",
        "'''"
      ],
      "metadata": {
        "id": "akAVJn9YBTQT"
      },
      "execution_count": null,
      "outputs": []
    }
  ],
  "metadata": {
    "colab": {
      "provenance": [],
      "collapsed_sections": [
        "FBKvD6O_TY6e",
        "E9RqrlwdTfvl",
        "03jb4GZsBkBS",
        "jJDe71iLB616",
        "55W9AMdXCSpV",
        "4ulBZ6yhCi9F",
        "6SmvS7nSfbj8",
        "sZOhks1dXWEe"
      ]
    },
    "kernelspec": {
      "display_name": "Python 3 (ipykernel)",
      "language": "python",
      "name": "python3"
    },
    "language_info": {
      "codemirror_mode": {
        "name": "ipython",
        "version": 3
      },
      "file_extension": ".py",
      "mimetype": "text/x-python",
      "name": "python",
      "nbconvert_exporter": "python",
      "pygments_lexer": "ipython3",
      "version": "3.9.12"
    }
  },
  "nbformat": 4,
  "nbformat_minor": 0
}