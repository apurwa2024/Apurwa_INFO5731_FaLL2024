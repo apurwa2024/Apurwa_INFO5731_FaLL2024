{
  "cells": [
    {
      "cell_type": "markdown",
      "metadata": {
        "id": "view-in-github",
        "colab_type": "text"
      },
      "source": [
        "<a href=\"https://colab.research.google.com/github/apurwa2024/Apurwa_INFO5731_FaLL2024/blob/main/Bhattarai_Apurwa_Exercise_2_.ipynb\" target=\"_parent\"><img src=\"https://colab.research.google.com/assets/colab-badge.svg\" alt=\"Open In Colab\"/></a>"
      ]
    },
    {
      "cell_type": "markdown",
      "metadata": {
        "id": "DymRJbxDBCnf"
      },
      "source": [
        "# **INFO5731 In-class Exercise 2**\n",
        "\n",
        "The purpose of this exercise is to understand users' information needs, and then collect data from different sources for analysis by implementing web scraping using Python.\n",
        "\n",
        "**Expectations**:\n",
        "*   Students are expected to complete the exercise during lecture period to meet the active participation criteria of the course.\n",
        "*   Use the provided .*ipynb* document to write your code & respond to the questions. Avoid generating a new file.\n",
        "*   Write complete answers and run all the cells before submission.\n",
        "*   Make sure the submission is \"clean\"; *i.e.*, no unnecessary code cells.\n",
        "*   Once finished, allow shared rights from top right corner (*see Canvas for details*).\n",
        "\n",
        "**Total points**: 40\n",
        "\n",
        "**Deadline**: This in-class exercise is due at the end of the day tomorrow, at 11:59 PM.\n",
        "\n",
        "**Late submissions will have a penalty of 10% of the marks for each day of late submission. , and no requests will be answered. Manage your time accordingly.**\n"
      ]
    },
    {
      "cell_type": "markdown",
      "source": [
        "## Question 1 (10 Points)\n",
        "Describe an interesting research question (or practical question or something innovative) you have in mind, what kind of data should be collected to answer the question(s)? Specify the amount of data needed for analysis. Provide detailed steps for collecting and saving the data."
      ],
      "metadata": {
        "id": "FBKvD6O_TY6e"
      }
    },
    {
      "cell_type": "code",
      "source": [
        "# write your answer here\n",
        "I am extracting the Urban Area, fortune and Population of the largest companies in the world from wikipedia. Here is the URL: https://en.wikipedia.org/wiki/Fortune_1000"
      ],
      "metadata": {
        "id": "cikVKDXdTbzE"
      },
      "execution_count": null,
      "outputs": []
    },
    {
      "cell_type": "markdown",
      "source": [
        "## Question 2 (10 Points)\n",
        "Write Python code to collect a dataset of 1000 samples related to the question discussed in Question 1."
      ],
      "metadata": {
        "id": "E9RqrlwdTfvl"
      }
    },
    {
      "cell_type": "code",
      "source": [
        "import requests\n",
        "from bs4 import BeautifulSoup\n",
        "import pandas as pd\n",
        "\n",
        "url = 'https://en.wikipedia.org/wiki/Fortune_1000'\n",
        "page = requests.get(url)\n",
        "soup = BeautifulSoup(page.text, 'html.parser')\n",
        "\n",
        "table = soup.find_all('table', class_='wikitable sortable')[0]\n",
        "\n",
        "headers = [header.text.strip() for header in table.find_all('th')]\n",
        "\n",
        "df = pd.DataFrame(columns=headers)\n",
        "\n",
        "rows = table.find_all('tr')\n",
        "\n",
        "for i, row in enumerate(rows[1:], 1):\n",
        "    data = row.find_all('td')\n",
        "    row_data = [cell.text.strip() for cell in data]\n",
        "\n",
        "    df.loc[len(df)] = row_data\n",
        "\n",
        "    if i == 1000:\n",
        "        break\n",
        "\n",
        "print(df.head(10))\n",
        "\n",
        "df.to_csv('fortune_1000_companies.csv', index=False)\n",
        "\n",
        "print('saved to fortune_1000_companies.csv')\n",
        "\n",
        "\n"
      ],
      "metadata": {
        "colab": {
          "base_uri": "https://localhost:8080/"
        },
        "id": "3iFQKPpOteup",
        "outputId": "a23fe58c-a6d9-4657-c0a9-8b4906fc9f56",
        "collapsed": true
      },
      "execution_count": 1,
      "outputs": [
        {
          "output_type": "stream",
          "name": "stdout",
          "text": [
            "                             Urban area Number of Fortune 1000 companies  \\\n",
            "0             New York—Newark, NY—NJ—CT                              114   \n",
            "1                        Chicago, IL—IN                               62   \n",
            "2  San Jose--San Francisco--Oakland, CA                               55   \n",
            "3                           Houston, TX                               46   \n",
            "4       Dallas—Fort Worth—Arlington, TX                               40   \n",
            "5    Los Angeles—Long Beach—Anaheim, CA                               32   \n",
            "6                  Washington, DC—VA—MD                               30   \n",
            "7                           Atlanta, GA                               27   \n",
            "8           Minneapolis—St. Paul, MN—WI                               26   \n",
            "9             Philadelphia, PA—NJ—DE—MD                               26   \n",
            "\n",
            "  Population (2010 census)  \n",
            "0               18,351,295  \n",
            "1                8,608,208  \n",
            "2                4,945,700  \n",
            "3                4,944,332  \n",
            "4                5,121,892  \n",
            "5               12,150,996  \n",
            "6                4,586,770  \n",
            "7                4,515,419  \n",
            "8                2,915,899  \n",
            "9                5,441,567  \n",
            "saved to fortune_1000_companies.csv\n"
          ]
        }
      ]
    },
    {
      "cell_type": "markdown",
      "metadata": {
        "id": "03jb4GZsBkBS"
      },
      "source": [
        "## Question 3 (10 Points)\n",
        "Write Python code to collect 1000 articles from Google Scholar (https://scholar.google.com/), Microsoft Academic (https://academic.microsoft.com/home), or CiteSeerX (https://citeseerx.ist.psu.edu/index), or Semantic Scholar (https://www.semanticscholar.org/), or ACM Digital Libraries (https://dl.acm.org/) with the keyword \"XYZ\". The articles should be published in the last 10 years (2014-2024).\n",
        "\n",
        "The following information from the article needs to be collected:\n",
        "\n",
        "(1) Title of the article\n",
        "\n",
        "(2) Venue/journal/conference being published\n",
        "\n",
        "(3) Year\n",
        "\n",
        "(4) Authors\n",
        "\n",
        "(5) Abstract"
      ]
    },
    {
      "cell_type": "code",
      "source": [
        "import requests\n",
        "from bs4 import BeautifulSoup\n",
        "import pandas as pd\n",
        "import time\n",
        "\n",
        "headers = {\n",
        "    \"User-Agent\": \"Mozilla/5.0 (X11; Ubuntu; Linux x86; rv:123.0) Gecko/20100101 Firefox/123.0\",\n",
        "    \"Accept\": \"text/html\",\n",
        "    \"Connection\": \"Keep-alive\"\n",
        "}\n",
        "\n",
        "titles = []\n",
        "journals = []\n",
        "years = []\n",
        "authors = []\n",
        "abstracts = []\n",
        "\n",
        "for i in range(1, 21):\n",
        "    url = f\"https://dl.acm.org/action/doSearch?AllField=&AfterYear=2014&BeforeYear=2024&startPage=\"\n",
        "    time.sleep(10)\n",
        "    response = requests.get(url, headers=headers)\n",
        "\n",
        "    if response.status_code != 200:\n",
        "        print(f\"Failed to retrieve page {i}\")\n",
        "        continue\n",
        "\n",
        "    soup = BeautifulSoup(response.text, 'html.parser')\n",
        "    articles = soup.find_all('div', class_='search__item issue-item-container')\n",
        "\n",
        "    if not articles:\n",
        "        print(f\"No articles found on page {i}\")\n",
        "        continue\n",
        "\n",
        "    for article in articles:\n",
        "        title_tag = article.find('h5', class_='issue-item__title')\n",
        "        title = title_tag.get_text(strip=True) if title_tag else \"N/A\"\n",
        "        titles.append(title)\n",
        "\n",
        "        journal_tag = article.find('span', class_='epub-section__title')\n",
        "        journal = journal_tag.get_text(strip=True) if journal_tag else \"N/A\"\n",
        "        journals.append(journal)\n",
        "\n",
        "        year_tag = article.find('span', class_='epub-section__year')\n",
        "        year = year_tag.get_text(strip=True) if year_tag else \"N/A\"\n",
        "        years.append(year)\n",
        "\n",
        "        authors_tag = article.find('ul', class_='rlist--inline loa comma')\n",
        "        author_names = [a.get_text(strip=True) for a in authors_tag.find_all('a')] if authors_tag else []\n",
        "        authors.append(\", \".join(author_names) if author_names else \"N/A\")\n",
        "\n",
        "        abstract_tag = article.find('div', class_='issue-item__abstract')\n",
        "        abstract = abstract_tag.get_text(strip=True) if abstract_tag else \"N/A\"\n",
        "        abstracts.append(abstract)\n",
        "\n",
        "df = pd.DataFrame({\n",
        "    'Title': titles,\n",
        "    'Journal/Conference': journals,\n",
        "    'Year': years,\n",
        "    'Authors': authors,\n",
        "    'Abstract': abstracts\n",
        "})\n",
        "\n",
        "print(df)\n",
        "\n",
        "df.to_csv('acm_articles.csv', index=False)\n",
        "\n",
        "print(\"Data collection completed. Articles saved to 'acm_articles.csv'\")\n"
      ],
      "metadata": {
        "colab": {
          "base_uri": "https://localhost:8080/"
        },
        "collapsed": true,
        "id": "Gc4X8c1j39XH",
        "outputId": "6cd30021-3eb9-4937-c649-61bf19c18628"
      },
      "execution_count": 10,
      "outputs": [
        {
          "output_type": "stream",
          "name": "stdout",
          "text": [
            "No articles found on page 1\n",
            "No articles found on page 2\n",
            "No articles found on page 3\n",
            "No articles found on page 4\n",
            "No articles found on page 5\n",
            "No articles found on page 6\n",
            "No articles found on page 7\n",
            "No articles found on page 8\n",
            "No articles found on page 9\n",
            "No articles found on page 10\n",
            "No articles found on page 11\n",
            "No articles found on page 12\n",
            "No articles found on page 13\n",
            "No articles found on page 14\n",
            "No articles found on page 15\n",
            "No articles found on page 16\n",
            "No articles found on page 17\n",
            "No articles found on page 18\n",
            "No articles found on page 19\n",
            "No articles found on page 20\n",
            "Empty DataFrame\n",
            "Columns: [Title, Journal/Conference, Year, Authors, Abstract]\n",
            "Index: []\n",
            "Data collection completed. Articles saved to 'acm_articles.csv'\n"
          ]
        }
      ]
    },
    {
      "cell_type": "markdown",
      "metadata": {
        "id": "jJDe71iLB616"
      },
      "source": [
        "## Question 4A (10 Points)\n",
        "Develop Python code to collect data from social media platforms like Reddit, Instagram, Twitter (formerly known as X), Facebook, or any other. Use hashtags, keywords, usernames, or user IDs to gather the data.\n",
        "\n",
        "\n",
        "\n",
        "Ensure that the collected data has more than four columns.\n"
      ]
    },
    {
      "cell_type": "code",
      "execution_count": 17,
      "metadata": {
        "id": "MtKskTzbCLaU",
        "colab": {
          "base_uri": "https://localhost:8080/"
        },
        "outputId": "71ff97d9-2659-4923-a807-a703cf8e3e07",
        "collapsed": true
      },
      "outputs": [
        {
          "output_type": "stream",
          "name": "stdout",
          "text": [
            "Failed to retrieve page: 403\n",
            "No data found\n"
          ]
        }
      ],
      "source": [
        "# write your answer here\n",
        "import requests\n",
        "from bs4 import BeautifulSoup\n",
        "import pandas as pd\n",
        "import time\n",
        "\n",
        "headers = {\n",
        "    \"User-Agent\": \"Mozilla/5.0 (Windows NT 10.0; Win64; x64) AppleWebKit/537.36 (KHTML, like Gecko) Chrome/91.0.4472.124 Safari/537.36\"\n",
        "}\n",
        "\n",
        "def fetchPost(post_url):\n",
        "    response = requests.get(post_url, headers=headers)\n",
        "    if response.status_code != 200:\n",
        "        print(f\"Failed to retrieve page: {response.status_code}\")\n",
        "        return {}\n",
        "\n",
        "    soup = BeautifulSoup(response.text, 'html.parser')\n",
        "\n",
        "    postTitle = soup.find('h1').get_text() if soup.find('h1') else 'N/A'\n",
        "    posturl = response.url\n",
        "    postAuthor = soup.find('a', class_='s1d0k6t2-2').get_text() if soup.find('a', class_='s1d0k6t2-2') else 'N/A'\n",
        "    postDate = soup.find('a', class_='s1d0k6t2-1').get_text() if soup.find('a', class_='s1d0k6t2-1') else 'N/A'\n",
        "    numComments = soup.find('span', class_='s1d0k6t2-3').get_text() if soup.find('span', class_='s1d0k6t2-3') else 'N/A'\n",
        "    postScore = soup.find('div', class_='score').get_text() if soup.find('div', class_='score') else 'N/A'\n",
        "\n",
        "    topComment = soup.find('div', class_='comment').get_text() if soup.find('div', class_='comment') else 'N/A'\n",
        "    topCommentOfAuthor = soup.find('a', class_='comment-author').get_text() if soup.find('a', class_='comment-author') else 'N/A'\n",
        "\n",
        "    return {\n",
        "        'Post Title': postTitle,\n",
        "        'Post URL': posturl,\n",
        "        'Author': postAuthor,\n",
        "        'Date': postDate,\n",
        "        'Number of Comments': numComments,\n",
        "        'Score': postScore,\n",
        "        'Top Comment': topComment,\n",
        "        'Top Comment Author': topCommentOfAuthor\n",
        "    }\n",
        "\n",
        "def main():\n",
        "    post_url = 'https://www.reddit.com/r/coolguides/comments/13jyuwv/photography_guide/'\n",
        "    post_data = fetchPost(post_url)\n",
        "\n",
        "    if post_data:\n",
        "        df = pd.DataFrame([post_data])\n",
        "        df.to_csv('reddit_post_data.csv', index=False)\n",
        "        print('Data saved to reddit_post_data.csv')\n",
        "    else:\n",
        "        print('No data available')\n",
        "\n",
        "if __name__ == '__main__':\n",
        "    main()\n"
      ]
    },
    {
      "cell_type": "markdown",
      "metadata": {
        "id": "55W9AMdXCSpV"
      },
      "source": [
        "## Question 4B (10 Points)\n",
        "If you encounter challenges with Question-4 web scraping using Python, employ any online tools such as ParseHub or Octoparse for data extraction. Introduce the selected tool, outline the steps for web scraping, and showcase the final output in formats like CSV or Excel.\n",
        "\n",
        "\n",
        "\n",
        "Upload a document (Word or PDF File) in any shared storage (preferably UNT OneDrive) and add the publicly accessible link in the below code cell.\n",
        "\n",
        "Please only choose one option for question 4. If you do both options, we will grade only the first one"
      ]
    },
    {
      "cell_type": "code",
      "execution_count": null,
      "metadata": {
        "id": "I57NXsauCec2"
      },
      "outputs": [],
      "source": [
        "# write your answer here\n"
      ]
    },
    {
      "cell_type": "markdown",
      "source": [
        "# Mandatory Question"
      ],
      "metadata": {
        "id": "sZOhks1dXWEe"
      }
    },
    {
      "cell_type": "markdown",
      "source": [
        "**Important: Reflective Feedback on Web Scraping and Data Collection**\n",
        "\n",
        "\n",
        "\n",
        "Please share your thoughts and feedback on the web scraping and data collection exercises you have completed in this assignment. Consider the following points in your response:\n",
        "\n",
        "\n",
        "\n",
        "Learning Experience: Describe your overall learning experience in working on web scraping tasks. What were the key concepts or techniques you found most beneficial in understanding the process of extracting data from various online sources?\n",
        "\n",
        "\n",
        "\n",
        "Challenges Encountered: Were there specific difficulties in collecting data from certain websites, and how did you overcome them? If you opted for the non-coding option, share your experience with the chosen tool.\n",
        "\n",
        "\n",
        "\n",
        "Relevance to Your Field of Study: How might the ability to gather and analyze data from online sources enhance your work or research?\n",
        "\n",
        "**(no grading of your submission if this question is left unanswered)**"
      ],
      "metadata": {
        "id": "eqmHVEwaWhbV"
      }
    },
    {
      "cell_type": "code",
      "source": [
        "'''\n",
        "Write your response here.\n",
        "\n",
        "This assisgnment was extremely challenging for me as I have no prior python experience. I had to go through multiple online resources and some youtube tutorials to understand about webscraping. The difficulties that I encountered while collecting data would be finding the right URL of the source where I am collecting the data from. The ability to gather data from online resource will be enhanced because you go through multiple articles to do your research.\n",
        "'''"
      ],
      "metadata": {
        "id": "akAVJn9YBTQT"
      },
      "execution_count": null,
      "outputs": []
    }
  ],
  "metadata": {
    "colab": {
      "provenance": [],
      "collapsed_sections": [
        "FBKvD6O_TY6e",
        "E9RqrlwdTfvl",
        "03jb4GZsBkBS",
        "jJDe71iLB616",
        "55W9AMdXCSpV",
        "4ulBZ6yhCi9F",
        "6SmvS7nSfbj8",
        "sZOhks1dXWEe"
      ],
      "include_colab_link": true
    },
    "kernelspec": {
      "display_name": "Python 3 (ipykernel)",
      "language": "python",
      "name": "python3"
    },
    "language_info": {
      "codemirror_mode": {
        "name": "ipython",
        "version": 3
      },
      "file_extension": ".py",
      "mimetype": "text/x-python",
      "name": "python",
      "nbconvert_exporter": "python",
      "pygments_lexer": "ipython3",
      "version": "3.9.12"
    }
  },
  "nbformat": 4,
  "nbformat_minor": 0
}